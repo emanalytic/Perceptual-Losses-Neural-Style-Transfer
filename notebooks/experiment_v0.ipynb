{
 "cells": [
  {
   "metadata": {
    "ExecuteTime": {
     "end_time": "2025-01-02T16:17:15.538962Z",
     "start_time": "2025-01-02T16:17:15.532361Z"
    }
   },
   "cell_type": "code",
   "source": [
    "import torch\n",
    "from PIL import Image"
   ],
   "id": "fa2d5a2903c49623",
   "outputs": [],
   "execution_count": 5
  },
  {
   "metadata": {
    "ExecuteTime": {
     "end_time": "2025-01-02T16:17:16.318946Z",
     "start_time": "2025-01-02T16:17:16.311877Z"
    }
   },
   "cell_type": "code",
   "source": "print(torch.cuda.is_available())",
   "id": "56a0b227f3698f84",
   "outputs": [
    {
     "name": "stdout",
     "output_type": "stream",
     "text": [
      "False\n"
     ]
    }
   ],
   "execution_count": 6
  },
  {
   "metadata": {
    "ExecuteTime": {
     "end_time": "2025-01-02T16:18:41.349371Z",
     "start_time": "2025-01-02T16:18:41.341614Z"
    }
   },
   "cell_type": "code",
   "source": "%cd \"C:\\Users\\emann\\Documents\\Projects/NST/\"",
   "id": "72208bc70289398f",
   "outputs": [
    {
     "name": "stdout",
     "output_type": "stream",
     "text": [
      "C:\\Users\\emann\\Documents\\Projects\\NST\n"
     ]
    }
   ],
   "execution_count": 17
  },
  {
   "metadata": {
    "ExecuteTime": {
     "end_time": "2025-01-02T16:18:49.954168Z",
     "start_time": "2025-01-02T16:18:49.945649Z"
    }
   },
   "cell_type": "code",
   "source": [
    "image = Image.open('data/Vincent_van_Gogh_100.jpg')\n",
    "image.size"
   ],
   "id": "1b071437062cf27d",
   "outputs": [
    {
     "data": {
      "text/plain": [
       "(1922, 1584)"
      ]
     },
     "execution_count": 19,
     "metadata": {},
     "output_type": "execute_result"
    }
   ],
   "execution_count": 19
  },
  {
   "metadata": {},
   "cell_type": "code",
   "outputs": [],
   "execution_count": null,
   "source": "",
   "id": "17df72821bba6478"
  }
 ],
 "metadata": {
  "kernelspec": {
   "display_name": "Python [conda env:nst]",
   "language": "python",
   "name": "conda-env-nst-py"
  },
  "language_info": {
   "codemirror_mode": {
    "name": "ipython",
    "version": 2
   },
   "file_extension": ".py",
   "mimetype": "text/x-python",
   "name": "python",
   "nbconvert_exporter": "python",
   "pygments_lexer": "ipython2",
   "version": "2.7.6"
  }
 },
 "nbformat": 4,
 "nbformat_minor": 5
}
